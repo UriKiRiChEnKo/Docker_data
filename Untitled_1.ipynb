{
 "cells": [
  {
   "cell_type": "code",
   "execution_count": 9,
   "id": "3e297ded-dfa7-4546-8732-a67d20d88b60",
   "metadata": {},
   "outputs": [],
   "source": [
    "import pandas as pd"
   ]
  },
  {
   "cell_type": "code",
   "execution_count": 2,
   "id": "db0879cf-6160-4a4b-950d-4b475fc16ab9",
   "metadata": {},
   "outputs": [],
   "source": [
    "df = pd.read_csv(\"wine.data\")"
   ]
  },
  {
   "cell_type": "code",
   "execution_count": 3,
   "id": "b51b9d81-ec55-452b-b178-2c0783ff923f",
   "metadata": {},
   "outputs": [
    {
     "data": {
      "text/plain": [
       "1        177\n",
       "14.23    177\n",
       "1.71     177\n",
       "2.43     177\n",
       "15.6     177\n",
       "127      177\n",
       "2.8      177\n",
       "3.06     177\n",
       ".28      177\n",
       "2.29     177\n",
       "5.64     177\n",
       "1.04     177\n",
       "3.92     177\n",
       "1065     177\n",
       "dtype: int64"
      ]
     },
     "execution_count": 3,
     "metadata": {},
     "output_type": "execute_result"
    }
   ],
   "source": [
    "df.count()"
   ]
  },
  {
   "cell_type": "code",
   "execution_count": 4,
   "id": "fb1c19ab-def6-4ac8-9e37-a96b2db5064e",
   "metadata": {},
   "outputs": [],
   "source": [
    "import xgboost"
   ]
  },
  {
   "cell_type": "code",
   "execution_count": 1,
   "id": "a00bdbb7-3f09-4085-840e-ce730b447d2d",
   "metadata": {},
   "outputs": [],
   "source": [
    "import pg8000"
   ]
  },
  {
   "cell_type": "code",
   "execution_count": 2,
   "id": "75c856ce-1e1c-4135-895c-e33724dc2bf9",
   "metadata": {},
   "outputs": [],
   "source": [
    "db_params = {'user': 'postgres',\n",
    "'password': '',\n",
    "    \t\t'host': 'db',\n",
    "   \t\t 'database': 'postgres',\n",
    "   \t\t 'port': 5432}"
   ]
  },
  {
   "cell_type": "code",
   "execution_count": 3,
   "id": "bf387175-bc2d-46ad-a485-d0ebd047d99b",
   "metadata": {},
   "outputs": [],
   "source": [
    "connection = pg8000.connect(**db_params)"
   ]
  },
  {
   "cell_type": "code",
   "execution_count": 4,
   "id": "f6632586-e345-417d-80b5-dd9aa39f73cc",
   "metadata": {},
   "outputs": [
    {
     "data": {
      "text/plain": [
       "<pg8000.legacy.Connection at 0x7fa341923d90>"
      ]
     },
     "execution_count": 4,
     "metadata": {},
     "output_type": "execute_result"
    }
   ],
   "source": [
    "connection"
   ]
  },
  {
   "cell_type": "code",
   "execution_count": 5,
   "id": "db387f61-af37-4690-96e7-42cf5b71f263",
   "metadata": {},
   "outputs": [],
   "source": [
    "from sqlalchemy import create_engine"
   ]
  },
  {
   "cell_type": "code",
   "execution_count": 6,
   "id": "b4c0b286-4f56-4029-b197-db59b11f4311",
   "metadata": {},
   "outputs": [],
   "source": [
    "# Create a SQLAlchemy engine using pg8000\n",
    "engine=create_engine(f'postgresql+pg8000://{db_params[\"user\"]}:{db_params[\"password\"]}@{db_params[\"host\"]}:{db_params[\"port\"]}/{db_params[\"database\"]}')"
   ]
  },
  {
   "cell_type": "code",
   "execution_count": 7,
   "id": "bf5f6663-614c-4ab5-8d31-8c953cdb3e5d",
   "metadata": {},
   "outputs": [],
   "source": [
    "# Specify the table name\n",
    "table_name = 'wine'"
   ]
  },
  {
   "cell_type": "code",
   "execution_count": 11,
   "id": "253919df-f83d-4473-80f4-8deb0a6a0282",
   "metadata": {},
   "outputs": [
    {
     "data": {
      "text/plain": [
       "177"
      ]
     },
     "execution_count": 11,
     "metadata": {},
     "output_type": "execute_result"
    }
   ],
   "source": [
    "# Use to_sql to write the DataFrame to the PostgreSQL database using SQLAlchemy engine\n",
    "df.to_sql(name=table_name, con=engine, index=False, if_exists='replace')"
   ]
  },
  {
   "cell_type": "code",
   "execution_count": 13,
   "id": "4d5c1f2f-a1c5-4376-9df6-7e0cbfe5e84b",
   "metadata": {},
   "outputs": [],
   "source": [
    "# Select data from wine table\n",
    "query = f'SELECT * FROM {table_name}'\n",
    "df_read = pd.read_sql_query(query, con=engine)"
   ]
  },
  {
   "cell_type": "code",
   "execution_count": 14,
   "id": "aaf92696-11c7-4f7f-a955-7d95d2c591fe",
   "metadata": {},
   "outputs": [
    {
     "data": {
      "text/html": [
       "<div>\n",
       "<style scoped>\n",
       "    .dataframe tbody tr th:only-of-type {\n",
       "        vertical-align: middle;\n",
       "    }\n",
       "\n",
       "    .dataframe tbody tr th {\n",
       "        vertical-align: top;\n",
       "    }\n",
       "\n",
       "    .dataframe thead th {\n",
       "        text-align: right;\n",
       "    }\n",
       "</style>\n",
       "<table border=\"1\" class=\"dataframe\">\n",
       "  <thead>\n",
       "    <tr style=\"text-align: right;\">\n",
       "      <th></th>\n",
       "      <th>1</th>\n",
       "      <th>14.23</th>\n",
       "      <th>1.71</th>\n",
       "      <th>2.43</th>\n",
       "      <th>15.6</th>\n",
       "      <th>127</th>\n",
       "      <th>2.8</th>\n",
       "      <th>3.06</th>\n",
       "      <th>.28</th>\n",
       "      <th>2.29</th>\n",
       "      <th>5.64</th>\n",
       "      <th>1.04</th>\n",
       "      <th>3.92</th>\n",
       "      <th>1065</th>\n",
       "    </tr>\n",
       "  </thead>\n",
       "  <tbody>\n",
       "    <tr>\n",
       "      <th>0</th>\n",
       "      <td>1</td>\n",
       "      <td>13.20</td>\n",
       "      <td>1.78</td>\n",
       "      <td>2.14</td>\n",
       "      <td>11.2</td>\n",
       "      <td>100</td>\n",
       "      <td>2.65</td>\n",
       "      <td>2.76</td>\n",
       "      <td>0.26</td>\n",
       "      <td>1.28</td>\n",
       "      <td>4.38</td>\n",
       "      <td>1.05</td>\n",
       "      <td>3.40</td>\n",
       "      <td>1050</td>\n",
       "    </tr>\n",
       "    <tr>\n",
       "      <th>1</th>\n",
       "      <td>1</td>\n",
       "      <td>13.16</td>\n",
       "      <td>2.36</td>\n",
       "      <td>2.67</td>\n",
       "      <td>18.6</td>\n",
       "      <td>101</td>\n",
       "      <td>2.80</td>\n",
       "      <td>3.24</td>\n",
       "      <td>0.30</td>\n",
       "      <td>2.81</td>\n",
       "      <td>5.68</td>\n",
       "      <td>1.03</td>\n",
       "      <td>3.17</td>\n",
       "      <td>1185</td>\n",
       "    </tr>\n",
       "    <tr>\n",
       "      <th>2</th>\n",
       "      <td>1</td>\n",
       "      <td>14.37</td>\n",
       "      <td>1.95</td>\n",
       "      <td>2.50</td>\n",
       "      <td>16.8</td>\n",
       "      <td>113</td>\n",
       "      <td>3.85</td>\n",
       "      <td>3.49</td>\n",
       "      <td>0.24</td>\n",
       "      <td>2.18</td>\n",
       "      <td>7.80</td>\n",
       "      <td>0.86</td>\n",
       "      <td>3.45</td>\n",
       "      <td>1480</td>\n",
       "    </tr>\n",
       "    <tr>\n",
       "      <th>3</th>\n",
       "      <td>1</td>\n",
       "      <td>13.24</td>\n",
       "      <td>2.59</td>\n",
       "      <td>2.87</td>\n",
       "      <td>21.0</td>\n",
       "      <td>118</td>\n",
       "      <td>2.80</td>\n",
       "      <td>2.69</td>\n",
       "      <td>0.39</td>\n",
       "      <td>1.82</td>\n",
       "      <td>4.32</td>\n",
       "      <td>1.04</td>\n",
       "      <td>2.93</td>\n",
       "      <td>735</td>\n",
       "    </tr>\n",
       "    <tr>\n",
       "      <th>4</th>\n",
       "      <td>1</td>\n",
       "      <td>14.20</td>\n",
       "      <td>1.76</td>\n",
       "      <td>2.45</td>\n",
       "      <td>15.2</td>\n",
       "      <td>112</td>\n",
       "      <td>3.27</td>\n",
       "      <td>3.39</td>\n",
       "      <td>0.34</td>\n",
       "      <td>1.97</td>\n",
       "      <td>6.75</td>\n",
       "      <td>1.05</td>\n",
       "      <td>2.85</td>\n",
       "      <td>1450</td>\n",
       "    </tr>\n",
       "  </tbody>\n",
       "</table>\n",
       "</div>"
      ],
      "text/plain": [
       "   1  14.23  1.71  2.43  15.6  127   2.8  3.06   .28  2.29  5.64  1.04  3.92  \\\n",
       "0  1  13.20  1.78  2.14  11.2  100  2.65  2.76  0.26  1.28  4.38  1.05  3.40   \n",
       "1  1  13.16  2.36  2.67  18.6  101  2.80  3.24  0.30  2.81  5.68  1.03  3.17   \n",
       "2  1  14.37  1.95  2.50  16.8  113  3.85  3.49  0.24  2.18  7.80  0.86  3.45   \n",
       "3  1  13.24  2.59  2.87  21.0  118  2.80  2.69  0.39  1.82  4.32  1.04  2.93   \n",
       "4  1  14.20  1.76  2.45  15.2  112  3.27  3.39  0.34  1.97  6.75  1.05  2.85   \n",
       "\n",
       "   1065  \n",
       "0  1050  \n",
       "1  1185  \n",
       "2  1480  \n",
       "3   735  \n",
       "4  1450  "
      ]
     },
     "execution_count": 14,
     "metadata": {},
     "output_type": "execute_result"
    }
   ],
   "source": [
    "# print 5 first row\n",
    "df_read.head()"
   ]
  },
  {
   "cell_type": "code",
   "execution_count": 10,
   "id": "3243e8e0-a298-457e-bf05-3bf61dae29ae",
   "metadata": {},
   "outputs": [],
   "source": [
    "# query for counting rows\n",
    "query_count = f'SELECT COUNT(*) FROM {table_name}'\n",
    "count_result = pd.read_sql_query(query_count, con=engine)"
   ]
  },
  {
   "cell_type": "code",
   "execution_count": 11,
   "id": "3e366675-529f-4c6a-93bd-57ae5bc618bd",
   "metadata": {},
   "outputs": [
    {
     "data": {
      "text/html": [
       "<div>\n",
       "<style scoped>\n",
       "    .dataframe tbody tr th:only-of-type {\n",
       "        vertical-align: middle;\n",
       "    }\n",
       "\n",
       "    .dataframe tbody tr th {\n",
       "        vertical-align: top;\n",
       "    }\n",
       "\n",
       "    .dataframe thead th {\n",
       "        text-align: right;\n",
       "    }\n",
       "</style>\n",
       "<table border=\"1\" class=\"dataframe\">\n",
       "  <thead>\n",
       "    <tr style=\"text-align: right;\">\n",
       "      <th></th>\n",
       "      <th>count</th>\n",
       "    </tr>\n",
       "  </thead>\n",
       "  <tbody>\n",
       "    <tr>\n",
       "      <th>0</th>\n",
       "      <td>177</td>\n",
       "    </tr>\n",
       "  </tbody>\n",
       "</table>\n",
       "</div>"
      ],
      "text/plain": [
       "   count\n",
       "0    177"
      ]
     },
     "execution_count": 11,
     "metadata": {},
     "output_type": "execute_result"
    }
   ],
   "source": [
    "count_result"
   ]
  },
  {
   "cell_type": "code",
   "execution_count": null,
   "id": "2685887b-fa13-45c2-b055-650d220f46bb",
   "metadata": {},
   "outputs": [],
   "source": []
  }
 ],
 "metadata": {
  "kernelspec": {
   "display_name": "Python 3 (ipykernel)",
   "language": "python",
   "name": "python3"
  },
  "language_info": {
   "codemirror_mode": {
    "name": "ipython",
    "version": 3
   },
   "file_extension": ".py",
   "mimetype": "text/x-python",
   "name": "python",
   "nbconvert_exporter": "python",
   "pygments_lexer": "ipython3",
   "version": "3.11.6"
  }
 },
 "nbformat": 4,
 "nbformat_minor": 5
}
